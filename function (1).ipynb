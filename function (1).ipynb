{
  "nbformat": 4,
  "nbformat_minor": 0,
  "metadata": {
    "colab": {
      "provenance": []
    },
    "kernelspec": {
      "name": "python3",
      "display_name": "Python 3"
    },
    "language_info": {
      "name": "python"
    }
  },
  "cells": [
    {
      "cell_type": "code",
      "execution_count": null,
      "metadata": {
        "id": "3CFm1i8YpNmz"
      },
      "outputs": [],
      "source": []
    },
    {
      "cell_type": "markdown",
      "source": [],
      "metadata": {
        "id": "tT6nodWZpRkv"
      }
    },
    {
      "cell_type": "markdown",
      "source": [
        "#Function"
      ],
      "metadata": {
        "id": "2NwKObS5pUCn"
      }
    },
    {
      "cell_type": "code",
      "source": [],
      "metadata": {
        "id": "eWjgAtecspnD"
      },
      "execution_count": null,
      "outputs": []
    },
    {
      "cell_type": "markdown",
      "source": [
        "1.What is the differnce between function and method in python ?\n",
        "  - Functions and methods are both blocks of reusable code in Python, but they  differ in their association and usage.\n",
        "\n",
        "2.This is second question ?\n",
        " - This is the answer or seconds question.\n",
        "\n",
        "\n"
      ],
      "metadata": {
        "id": "IA4e3X8bplmJ"
      }
    },
    {
      "cell_type": "code",
      "source": [
        "#Question\n"
      ],
      "metadata": {
        "id": "1ShGwd5Hsiaq"
      },
      "execution_count": null,
      "outputs": []
    },
    {
      "cell_type": "markdown",
      "source": [],
      "metadata": {
        "id": "LEWQK0D1sPVw"
      }
    }
  ]
}